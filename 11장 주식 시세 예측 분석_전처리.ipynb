{
 "cells": [
  {
   "cell_type": "markdown",
   "id": "f51bd824",
   "metadata": {},
   "source": [
    "시계열 데이터 분석 방법\n",
    "\n",
    "1. 분해법\n",
    "시계열 데이터가 가지는 추세, 계절성, 주기 및 불규칙성과 같은 구성요소를 분해하여 분석한다.\n",
    "2. 시간 영역 분석법(ARIMA)\n",
    "시간 영역 분석을 기반으로 하는 확률적 시계열 분석 방법\n",
    "현재의 데이터 값이 이전의 데이터 값과 일정한 관계를 가지고 있다는 가정 하에 모델링을 수행한다."
   ]
  },
  {
   "cell_type": "markdown",
   "id": "e01691bf",
   "metadata": {},
   "source": [
    "# 1.3 시계열 데이터 전처리 방법"
   ]
  },
  {
   "cell_type": "code",
   "execution_count": 1,
   "id": "ef218ac5",
   "metadata": {},
   "outputs": [
    {
     "name": "stdout",
     "output_type": "stream",
     "text": [
      "<class 'pandas.core.frame.DataFrame'>\n",
      "RangeIndex: 3 entries, 0 to 2\n",
      "Data columns (total 2 columns):\n",
      " #   Column  Non-Null Count  Dtype \n",
      "---  ------  --------------  ----- \n",
      " 0   date    3 non-null      object\n",
      " 1   name    3 non-null      object\n",
      "dtypes: object(2)\n",
      "memory usage: 180.0+ bytes\n",
      "None\n"
     ]
    }
   ],
   "source": [
    "# datetime 변환\n",
    "import pandas as pd\n",
    "d=pd.DataFrame({'date':['2019-01-03', '2021-11-22', '2023-01-05'], #날짜가 object형이면 datetime형으로 변경한다.\n",
    "'name':['J', 'Y', 'O']})\n",
    "print(d.info())"
   ]
  },
  {
   "cell_type": "code",
   "execution_count": 4,
   "id": "1e7be956",
   "metadata": {},
   "outputs": [
    {
     "name": "stdout",
     "output_type": "stream",
     "text": [
      "<class 'pandas.core.frame.DataFrame'>\n",
      "RangeIndex: 3 entries, 0 to 2\n",
      "Data columns (total 2 columns):\n",
      " #   Column  Non-Null Count  Dtype         \n",
      "---  ------  --------------  -----         \n",
      " 0   date    3 non-null      datetime64[ns]\n",
      " 1   name    3 non-null      object        \n",
      "dtypes: datetime64[ns](1), object(1)\n",
      "memory usage: 180.0+ bytes\n"
     ]
    }
   ],
   "source": [
    "d['date'] = pd.to_datetime(d.date, format= '%Y-%m-%d')\n",
    "d.info()"
   ]
  },
  {
   "cell_type": "code",
   "execution_count": 5,
   "id": "6657c886",
   "metadata": {},
   "outputs": [
    {
     "name": "stdout",
     "output_type": "stream",
     "text": [
      "           name\n",
      "date           \n",
      "2019-01-03    J\n",
      "2021-11-22    Y\n",
      "2023-01-05    O\n"
     ]
    }
   ],
   "source": [
    "#datetime 형의 컬럼을 인덱스로 설정\n",
    "#시계열 데이터는 시간에 종속되기 때문에 시간 컬럼이 인덱스로 설정되는 것이 좋다.\n",
    "\n",
    "d.set_index(keys=['date'], inplace=True)\n",
    "print(d)"
   ]
  },
  {
   "cell_type": "code",
   "execution_count": 11,
   "id": "510e971c",
   "metadata": {},
   "outputs": [
    {
     "name": "stdout",
     "output_type": "stream",
     "text": [
      "x1    1\n",
      "dtype: int64\n",
      "             x1\n",
      "date           \n",
      "2019-01-03  0.1\n",
      "2021-11-22  2.0\n",
      "2021-12-01  NaN\n",
      "2023-01-05  1.2\n"
     ]
    }
   ],
   "source": [
    "#결측치 처리\n",
    "import numpy as np\n",
    "d=pd.DataFrame({'date':['2019-01-03', '2021-11-22','2021-12-01','2023-01-05'],\n",
    "'x1':[0.1,2.0,np.nan,1.2]})\n",
    "\n",
    "d['date']=pd.to_datetime(d.date,format='%Y-%m-%d') #datetime형으로 변환\n",
    "\n",
    "d.set_index(keys=['date'],inplace=True) #date를 인덱스로\n",
    "\n",
    "print(d.isnull().sum()) #결측치 확인\n",
    "print(d)"
   ]
  },
  {
   "cell_type": "code",
   "execution_count": 14,
   "id": "5e8512e3",
   "metadata": {},
   "outputs": [
    {
     "name": "stdout",
     "output_type": "stream",
     "text": [
      "             x1\n",
      "date           \n",
      "2019-01-03  0.1\n",
      "2021-11-22  2.0\n",
      "2021-12-01  2.0\n",
      "2023-01-05  1.2\n"
     ]
    }
   ],
   "source": [
    "# 1. 이전 값으로 결측치 채우기\n",
    "d = d.fillna(method='ffill') #forward fill\n",
    "print(d)"
   ]
  },
  {
   "cell_type": "code",
   "execution_count": 16,
   "id": "a6588a37",
   "metadata": {},
   "outputs": [
    {
     "name": "stdout",
     "output_type": "stream",
     "text": [
      "             x1\n",
      "date           \n",
      "2019-01-03  0.1\n",
      "2021-11-22  2.0\n",
      "2021-12-01  NaN\n",
      "2023-01-05  1.2\n",
      "             x1\n",
      "date           \n",
      "2019-01-03  0.1\n",
      "2021-11-22  2.0\n",
      "2023-01-05  1.2\n"
     ]
    }
   ],
   "source": [
    "# 2. 결측치 제거\n",
    "d=pd.DataFrame({'date':['2019-01-03', '2021-11-22','2021-12-01','2023-01-05'],\n",
    "'x1':[0.1,2.0,np.nan,1.2]})\n",
    "d['date']=pd.to_datetime(d.date,format='%Y-%m-%d')\n",
    "d.set_index(keys=['date'],inplace=True)\n",
    "print(d)\n",
    "\n",
    "d = d.dropna()\n",
    "print(d)"
   ]
  },
  {
   "cell_type": "code",
   "execution_count": 17,
   "id": "8ab7c239",
   "metadata": {},
   "outputs": [
    {
     "name": "stdout",
     "output_type": "stream",
     "text": [
      "             x1\n",
      "date           \n",
      "2019-01-03  0.1\n",
      "2021-11-22  2.0\n",
      "2021-12-01  NaN\n",
      "2023-01-05  1.2\n",
      "             x1\n",
      "date           \n",
      "2019-01-03  0.1\n",
      "2021-11-22  2.0\n",
      "2021-12-01  1.6\n",
      "2023-01-05  1.2\n"
     ]
    }
   ],
   "source": [
    "# 3. 전후 값의 평균치로 채우기\n",
    "d=pd.DataFrame({'date':['2019-01-03', '2021-11-22','2021-12-01','2023-01-05'],\n",
    "'x1':[0.1,2.0,np.nan,1.2]})\n",
    "d['date']=pd.to_datetime(d.date,format='%Y-%m-%d')\n",
    "d.set_index(keys=['date'],inplace=True)\n",
    "print(d)\n",
    "\n",
    "d = d.interpolate()\n",
    "print(d)"
   ]
  },
  {
   "cell_type": "code",
   "execution_count": 20,
   "id": "23d2dd78",
   "metadata": {},
   "outputs": [
    {
     "name": "stdout",
     "output_type": "stream",
     "text": [
      "DatetimeIndex(['2019-01-03', '2021-11-22', '2021-12-01', '2023-01-05'], dtype='datetime64[ns]', name='date', freq=None)\n"
     ]
    }
   ],
   "source": [
    "# 빈도 설정\n",
    "# 빈도: 데이터 분석에서 설정하는 시간의 최소 단위\n",
    "d=pd.DataFrame({'date':['2019-01-03', '2021-11-22','2021-12-01','2023-01-05'],\n",
    "'x1':[0.1,2.0,1.6,1.2]})\n",
    "d['date']=pd.to_datetime(d.date,format='%Y-%m-%d')\n",
    "d.set_index(keys=['date'],inplace=True)\n",
    "\n",
    "#인덱스 속성확인\n",
    "print(d.index)\n",
    "#빈도(주기)에 대해 설정한 것이 없어 freq가 None으로 설정되어 있다."
   ]
  },
  {
   "cell_type": "code",
   "execution_count": 24,
   "id": "69f7d980",
   "metadata": {},
   "outputs": [
    {
     "name": "stdout",
     "output_type": "stream",
     "text": [
      "             x1\n",
      "date           \n",
      "2019-01-03  0.1\n",
      "2021-11-22  2.0\n",
      "2021-12-01  1.6\n",
      "2023-01-05  1.2\n",
      "             x1\n",
      "date           \n",
      "2019-12-31  0.1\n",
      "2020-12-31  0.1\n",
      "2021-12-31  1.6\n",
      "2022-12-31  1.6\n"
     ]
    }
   ],
   "source": [
    "print(d)\n",
    "\n",
    "d2 = d.asfreq('Y', method='ffill') # 'Y' 매년 마지막 일\n",
    "print(d2)"
   ]
  },
  {
   "cell_type": "code",
   "execution_count": 25,
   "id": "da007ad6",
   "metadata": {},
   "outputs": [
    {
     "name": "stdout",
     "output_type": "stream",
     "text": [
      "원본\n",
      "========================================\n",
      "            x1\n",
      "date          \n",
      "2021-01-06   5\n",
      "2021-01-13   4\n",
      "2021-01-20   3\n",
      "2021-01-27   2\n",
      "2021-02-03   7\n",
      "========================================\n",
      "             x1\n",
      "date           \n",
      "2021-01-06  5.0\n",
      "2021-01-13  4.0\n",
      "2021-01-20  3.0\n",
      "2021-01-27  2.0\n",
      "2021-02-03  7.0\n",
      "\n",
      "========================================\n",
      "             x1\n",
      "date           \n",
      "2021-01-06  NaN\n",
      "2021-01-13  4.5\n",
      "2021-01-20  3.5\n",
      "2021-01-27  2.5\n",
      "2021-02-03  4.5\n"
     ]
    }
   ],
   "source": [
    "# 특징량 만들기\n",
    "# rolling()을 사용하여 데이터를 shift하면서 부분 시계열을 추출해 그 부분의 통계량을 특징량으로 한다.\n",
    "import numpy as np\n",
    "d=pd.DataFrame({'date':['2021-01-06', '2021-01-13', '2021-01-20', '2021-01-27', '2021-02-03'],\n",
    "'x1':[5,4,3,2,7]})\n",
    "d['date']=pd.to_datetime(d.date)\n",
    "d.set_index(keys=['date'],inplace=True)\n",
    "\n",
    "print(\"원본\")\n",
    "print('=='*20)\n",
    "print(d)\n",
    "print('=='*20)\n",
    "tmp=d.rolling(1).mean()\n",
    "print(tmp)\n",
    "print()\n",
    "print('=='*20)\n",
    "tmp=d.rolling(2).mean()\n",
    "print(tmp)"
   ]
  },
  {
   "cell_type": "code",
   "execution_count": 26,
   "id": "096381ff",
   "metadata": {},
   "outputs": [
    {
     "name": "stdout",
     "output_type": "stream",
     "text": [
      "원본\n",
      "========================================\n",
      "            x1\n",
      "date          \n",
      "2021-01-06   5\n",
      "2021-01-13   4\n",
      "2021-01-20   3\n",
      "2021-01-27   2\n",
      "2021-02-03   7\n",
      "========================================\n",
      "            x1  diff\n",
      "date                \n",
      "2021-01-06   5   NaN\n",
      "2021-01-13   4  -1.0\n",
      "2021-01-20   3  -1.0\n",
      "2021-01-27   2  -1.0\n",
      "2021-02-03   7   5.0\n"
     ]
    }
   ],
   "source": [
    "#이전 값과 차이 계산\n",
    "#동일한 컬럼 값으로 채우기\n",
    "import numpy as np\n",
    "d=pd.DataFrame({'date':['2021-01-06', '2021-01-13', '2021-01-20', '2021-01-27', '2021-02-03'], 'x1':[5,4,3,2,7]})\n",
    "d['date']=pd.to_datetime(d.date)\n",
    "d.set_index(keys=['date'],inplace=True)\n",
    "\n",
    "print(\"원본\")\n",
    "print('=='*20)\n",
    "print(d)\n",
    "\n",
    "y_diff=d.diff() # 이전값-이후값\n",
    "y_diff.columns=['diff'] # 컬럼명 만들기\n",
    "temp = pd.concat([d,y_diff],axis=1) # 데이터프레임 열끼리 합치기\n",
    "print('=='*20)\n",
    "print(temp)"
   ]
  },
  {
   "cell_type": "code",
   "execution_count": 28,
   "id": "0e597ada",
   "metadata": {},
   "outputs": [
    {
     "name": "stdout",
     "output_type": "stream",
     "text": [
      "원본\n",
      "========================================\n",
      "            x1\n",
      "date          \n",
      "2021-01-06   5\n",
      "2021-01-13   4\n",
      "2021-01-20   3\n",
      "2021-01-27   2\n",
      "2021-02-03   7\n",
      "========================================\n",
      "            x1  shift\n",
      "date                 \n",
      "2021-01-06   5    NaN\n",
      "2021-01-13   4    NaN\n",
      "2021-01-20   3    5.0\n",
      "2021-01-27   2    4.0\n",
      "2021-02-03   7    3.0\n",
      "========================================\n",
      "            x1  shift\n",
      "date                 \n",
      "2021-01-06   5    5.0\n",
      "2021-01-13   4    5.0\n",
      "2021-01-20   3    5.0\n",
      "2021-01-27   2    4.0\n",
      "2021-02-03   7    3.0\n"
     ]
    }
   ],
   "source": [
    "# 지연값 추출\n",
    "\n",
    "import numpy as np\n",
    "d=pd.DataFrame({'date':['2021-01-06', '2021-01-13', '2021-01-20', '2021-01-27', '2021-02-03'],\n",
    "'x1':[5,4,3,2,7]})\n",
    "d['date']=pd.to_datetime(d.date)\n",
    "d.set_index(keys=['date'],inplace=True)\n",
    "\n",
    "print(\"원본\")\n",
    "print('=='*20)\n",
    "print(d)\n",
    "print('=='*20)\n",
    "d['shift']=d['x1'].shift(2) #데이터가 2개씩 뒤로 밀림\n",
    "print(d)\n",
    "print('=='*20)\n",
    "d=d.fillna(method='bfill') # backward fill\n",
    "print(d)"
   ]
  },
  {
   "cell_type": "code",
   "execution_count": 29,
   "id": "8f31d9f6",
   "metadata": {},
   "outputs": [
    {
     "name": "stdout",
     "output_type": "stream",
     "text": [
      "원본\n",
      "========================================\n",
      "            x1 과목\n",
      "date             \n",
      "2021-01-06   5  a\n",
      "2021-01-13   4  b\n",
      "2021-01-20   3  c\n",
      "2021-01-27   2  d\n",
      "2021-02-03   7  e\n",
      "========================================\n",
      "            x1 과목  a  b  c  d  e\n",
      "date                            \n",
      "2021-01-06   5  a  1  0  0  0  0\n",
      "2021-01-13   4  b  0  1  0  0  0\n",
      "2021-01-20   3  c  0  0  1  0  0\n",
      "2021-01-27   2  d  0  0  0  1  0\n",
      "2021-02-03   7  e  0  0  0  0  1\n"
     ]
    }
   ],
   "source": [
    "#원-핫 인코딩 : 범주형 변수를 컴퓨터가 처리할 수 있도록 변환\n",
    "#판다스 : get_dummies()\n",
    "\n",
    "import numpy as np\n",
    "d=pd.DataFrame({'date':['2021-01-06', '2021-01-13', '2021-01-20', '2021-01-27', '2021-02-03'], 'x1':[5,4,3,2,7],'과목':['a','b','c','d','e']})\n",
    "d['date']=pd.to_datetime(d.date)\n",
    "d.set_index(keys=['date'],inplace=True)\n",
    "print(\"원본\")\n",
    "print('=='*20)\n",
    "print(d)\n",
    "x=pd.get_dummies(d['과목'])\n",
    "x=pd.concat([d,x],axis=1)\n",
    "print('=='*20)\n",
    "print(x)"
   ]
  }
 ],
 "metadata": {
  "kernelspec": {
   "display_name": "Python 3 (ipykernel)",
   "language": "python",
   "name": "python3"
  },
  "language_info": {
   "codemirror_mode": {
    "name": "ipython",
    "version": 3
   },
   "file_extension": ".py",
   "mimetype": "text/x-python",
   "name": "python",
   "nbconvert_exporter": "python",
   "pygments_lexer": "ipython3",
   "version": "3.11.4"
  }
 },
 "nbformat": 4,
 "nbformat_minor": 5
}
